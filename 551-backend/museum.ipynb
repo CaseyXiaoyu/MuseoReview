{
 "cells": [
  {
   "cell_type": "code",
   "execution_count": 32,
   "metadata": {},
   "outputs": [],
   "source": [
    "import sys\n",
    "import json\n",
    "import pandas as pd\n",
    "import requests\n",
    "from datetime import datetime\n",
    "from bson import ObjectId\n",
    "from pymongo import MongoClient"
   ]
  },
  {
   "cell_type": "code",
   "execution_count": 3,
   "metadata": {},
   "outputs": [],
   "source": [
    "df = pd.read_csv('tripadvisor_merged.csv')"
   ]
  },
  {
   "cell_type": "code",
   "execution_count": 4,
   "metadata": {},
   "outputs": [],
   "source": [
    "museum_info = df[['MuseumName', 'Address','Description','Fee','LengthOfVisit','PhoneNum','Rating','ReviewCount']]"
   ]
  },
  {
   "cell_type": "code",
   "execution_count": 5,
   "metadata": {},
   "outputs": [],
   "source": [
    "museum_info.insert(0, 'museum_id', range(1, len(museum_info) + 1))"
   ]
  },
  {
   "cell_type": "code",
   "execution_count": 28,
   "metadata": {},
   "outputs": [
    {
     "data": {
      "text/html": [
       "<div>\n",
       "<style scoped>\n",
       "    .dataframe tbody tr th:only-of-type {\n",
       "        vertical-align: middle;\n",
       "    }\n",
       "\n",
       "    .dataframe tbody tr th {\n",
       "        vertical-align: top;\n",
       "    }\n",
       "\n",
       "    .dataframe thead th {\n",
       "        text-align: right;\n",
       "    }\n",
       "</style>\n",
       "<table border=\"1\" class=\"dataframe\">\n",
       "  <thead>\n",
       "    <tr style=\"text-align: right;\">\n",
       "      <th></th>\n",
       "      <th>MuseumName</th>\n",
       "      <th>Address</th>\n",
       "      <th>Description</th>\n",
       "      <th>Fee</th>\n",
       "      <th>Langtitude</th>\n",
       "      <th>Latitude</th>\n",
       "      <th>LengthOfVisit</th>\n",
       "      <th>PhoneNum</th>\n",
       "      <th>Rating</th>\n",
       "      <th>ReviewCount</th>\n",
       "      <th>TotalThingsToDo</th>\n",
       "    </tr>\n",
       "  </thead>\n",
       "  <tbody>\n",
       "    <tr>\n",
       "      <th>0</th>\n",
       "      <td>Newseum</td>\n",
       "      <td>555 Pennsylvania Ave NW, Washington DC, DC 200...</td>\n",
       "      <td>Find out for yourself why everyone is calling ...</td>\n",
       "      <td>Yes</td>\n",
       "      <td>-77.019235</td>\n",
       "      <td>38.893138</td>\n",
       "      <td>2-3 hours</td>\n",
       "      <td>+1 888-639-7386</td>\n",
       "      <td>4.5</td>\n",
       "      <td>6309.0</td>\n",
       "      <td>398.0</td>\n",
       "    </tr>\n",
       "    <tr>\n",
       "      <th>1</th>\n",
       "      <td>The Metropolitan Museum of Art</td>\n",
       "      <td>1000 5th Ave, New York City, NY 10028-0198</td>\n",
       "      <td>At New York City's most visited museum and att...</td>\n",
       "      <td>Yes</td>\n",
       "      <td>-73.962928</td>\n",
       "      <td>40.779165</td>\n",
       "      <td>2-3 hours</td>\n",
       "      <td>1 212-535-7710</td>\n",
       "      <td>5.0</td>\n",
       "      <td>36627.0</td>\n",
       "      <td>1028.0</td>\n",
       "    </tr>\n",
       "    <tr>\n",
       "      <th>2</th>\n",
       "      <td>The National WWII Museum</td>\n",
       "      <td>945 Magazine Street, New Orleans, LA 70130-3813</td>\n",
       "      <td>Founded by historian and author, Stephen Ambro...</td>\n",
       "      <td>NaN</td>\n",
       "      <td>-90.070086</td>\n",
       "      <td>29.943004</td>\n",
       "      <td>NaN</td>\n",
       "      <td>+1 504-528-1944</td>\n",
       "      <td>5.0</td>\n",
       "      <td>15611.0</td>\n",
       "      <td>319.0</td>\n",
       "    </tr>\n",
       "    <tr>\n",
       "      <th>3</th>\n",
       "      <td>Denver Museum of Nature &amp; Science</td>\n",
       "      <td>2001 N Colorado Blvd, Denver, CO 80205-5798</td>\n",
       "      <td>The Denver Museum of Nature &amp; Science is the R...</td>\n",
       "      <td>NaN</td>\n",
       "      <td>-104.941020</td>\n",
       "      <td>39.769189</td>\n",
       "      <td>NaN</td>\n",
       "      <td>303-370-6000</td>\n",
       "      <td>4.5</td>\n",
       "      <td>2564.0</td>\n",
       "      <td>231.0</td>\n",
       "    </tr>\n",
       "    <tr>\n",
       "      <th>4</th>\n",
       "      <td>Art Institute of Chicago</td>\n",
       "      <td>111 S Michigan Ave, Chicago, IL 60603-6488</td>\n",
       "      <td>This Classical Renaissance structure, guarded ...</td>\n",
       "      <td>Yes</td>\n",
       "      <td>-87.623724</td>\n",
       "      <td>41.879547</td>\n",
       "      <td>More than 3 hours</td>\n",
       "      <td>312 443 3600</td>\n",
       "      <td>5.0</td>\n",
       "      <td>15532.0</td>\n",
       "      <td>614.0</td>\n",
       "    </tr>\n",
       "  </tbody>\n",
       "</table>\n",
       "</div>"
      ],
      "text/plain": [
       "                          MuseumName   \n",
       "0                            Newseum  \\\n",
       "1     The Metropolitan Museum of Art   \n",
       "2           The National WWII Museum   \n",
       "3  Denver Museum of Nature & Science   \n",
       "4           Art Institute of Chicago   \n",
       "\n",
       "                                             Address   \n",
       "0  555 Pennsylvania Ave NW, Washington DC, DC 200...  \\\n",
       "1         1000 5th Ave, New York City, NY 10028-0198   \n",
       "2    945 Magazine Street, New Orleans, LA 70130-3813   \n",
       "3        2001 N Colorado Blvd, Denver, CO 80205-5798   \n",
       "4         111 S Michigan Ave, Chicago, IL 60603-6488   \n",
       "\n",
       "                                         Description   Fee  Langtitude   \n",
       "0  Find out for yourself why everyone is calling ...  Yes   -77.019235  \\\n",
       "1  At New York City's most visited museum and att...  Yes   -73.962928   \n",
       "2  Founded by historian and author, Stephen Ambro...   NaN  -90.070086   \n",
       "3  The Denver Museum of Nature & Science is the R...   NaN -104.941020   \n",
       "4  This Classical Renaissance structure, guarded ...  Yes   -87.623724   \n",
       "\n",
       "    Latitude       LengthOfVisit         PhoneNum  Rating  ReviewCount   \n",
       "0  38.893138          2-3 hours   +1 888-639-7386     4.5       6309.0  \\\n",
       "1  40.779165          2-3 hours    1 212-535-7710     5.0      36627.0   \n",
       "2  29.943004                 NaN  +1 504-528-1944     5.0      15611.0   \n",
       "3  39.769189                 NaN     303-370-6000     4.5       2564.0   \n",
       "4  41.879547  More than 3 hours      312 443 3600     5.0      15532.0   \n",
       "\n",
       "   TotalThingsToDo  \n",
       "0            398.0  \n",
       "1           1028.0  \n",
       "2            319.0  \n",
       "3            231.0  \n",
       "4            614.0  "
      ]
     },
     "execution_count": 28,
     "metadata": {},
     "output_type": "execute_result"
    }
   ],
   "source": [
    "museum_info.head()"
   ]
  },
  {
   "cell_type": "code",
   "execution_count": 6,
   "metadata": {},
   "outputs": [
    {
     "name": "stderr",
     "output_type": "stream",
     "text": [
      "/var/folders/25/28bgdb_97bz6shswlftbfy_00000gn/T/ipykernel_11066/3903347352.py:16: SettingWithCopyWarning: \n",
      "A value is trying to be set on a copy of a slice from a DataFrame.\n",
      "Try using .loc[row_indexer,col_indexer] = value instead\n",
      "\n",
      "See the caveats in the documentation: https://pandas.pydata.org/pandas-docs/stable/user_guide/indexing.html#returning-a-view-versus-a-copy\n",
      "  museum_info['PhoneNum'] = museum_info['PhoneNum'].apply(format_phone_number)\n"
     ]
    }
   ],
   "source": [
    "import re\n",
    "\n",
    "def format_phone_number(phone):\n",
    "    if not isinstance(phone, str):\n",
    "        return None  # or you can return a placeholder string if you want\n",
    "    # Remove any character that is not a digit\n",
    "    digits = re.sub(r'\\D', '', phone)\n",
    "    # Check if the phone number has 10 digits (or 11 digits if it includes country code '1')\n",
    "    if len(digits) == 10 or (len(digits) == 11 and digits.startswith('1')):\n",
    "        formatted_phone = '+1 ' + '-'.join([digits[-10:-7], digits[-7:-4], digits[-4:]])\n",
    "        return formatted_phone\n",
    "    else:\n",
    "        return '+1 ' + phone  # Keeping original format if it doesn't match expected patterns\n",
    "\n",
    "# Apply the function to the 'PhoneNum' column\n",
    "museum_info['PhoneNum'] = museum_info['PhoneNum'].apply(format_phone_number)\n"
   ]
  },
  {
   "cell_type": "code",
   "execution_count": 7,
   "metadata": {},
   "outputs": [
    {
     "name": "stderr",
     "output_type": "stream",
     "text": [
      "/var/folders/25/28bgdb_97bz6shswlftbfy_00000gn/T/ipykernel_11066/2068209846.py:1: SettingWithCopyWarning: \n",
      "A value is trying to be set on a copy of a slice from a DataFrame.\n",
      "Try using .loc[row_indexer,col_indexer] = value instead\n",
      "\n",
      "See the caveats in the documentation: https://pandas.pydata.org/pandas-docs/stable/user_guide/indexing.html#returning-a-view-versus-a-copy\n",
      "  museum_info['PhoneNum'] = museum_info['PhoneNum'].apply(format_phone_number)\n"
     ]
    }
   ],
   "source": [
    "museum_info['PhoneNum'] = museum_info['PhoneNum'].apply(format_phone_number)"
   ]
  },
  {
   "cell_type": "code",
   "execution_count": 12,
   "metadata": {},
   "outputs": [
    {
     "name": "stderr",
     "output_type": "stream",
     "text": [
      "/var/folders/25/28bgdb_97bz6shswlftbfy_00000gn/T/ipykernel_11066/249981736.py:1: SettingWithCopyWarning: \n",
      "A value is trying to be set on a copy of a slice from a DataFrame.\n",
      "Try using .loc[row_indexer,col_indexer] = value instead\n",
      "\n",
      "See the caveats in the documentation: https://pandas.pydata.org/pandas-docs/stable/user_guide/indexing.html#returning-a-view-versus-a-copy\n",
      "  museum_info.Rating = 0\n",
      "/var/folders/25/28bgdb_97bz6shswlftbfy_00000gn/T/ipykernel_11066/249981736.py:2: SettingWithCopyWarning: \n",
      "A value is trying to be set on a copy of a slice from a DataFrame.\n",
      "Try using .loc[row_indexer,col_indexer] = value instead\n",
      "\n",
      "See the caveats in the documentation: https://pandas.pydata.org/pandas-docs/stable/user_guide/indexing.html#returning-a-view-versus-a-copy\n",
      "  museum_info.ReviewCount = 0\n"
     ]
    }
   ],
   "source": [
    "museum_info.Rating = 0\n",
    "museum_info.ReviewCount = 0"
   ]
  },
  {
   "cell_type": "code",
   "execution_count": 13,
   "metadata": {},
   "outputs": [
    {
     "data": {
      "text/html": [
       "<div>\n",
       "<style scoped>\n",
       "    .dataframe tbody tr th:only-of-type {\n",
       "        vertical-align: middle;\n",
       "    }\n",
       "\n",
       "    .dataframe tbody tr th {\n",
       "        vertical-align: top;\n",
       "    }\n",
       "\n",
       "    .dataframe thead th {\n",
       "        text-align: right;\n",
       "    }\n",
       "</style>\n",
       "<table border=\"1\" class=\"dataframe\">\n",
       "  <thead>\n",
       "    <tr style=\"text-align: right;\">\n",
       "      <th></th>\n",
       "      <th>museum_id</th>\n",
       "      <th>MuseumName</th>\n",
       "      <th>Address</th>\n",
       "      <th>Description</th>\n",
       "      <th>Fee</th>\n",
       "      <th>LengthOfVisit</th>\n",
       "      <th>PhoneNum</th>\n",
       "      <th>Rating</th>\n",
       "      <th>ReviewCount</th>\n",
       "    </tr>\n",
       "  </thead>\n",
       "  <tbody>\n",
       "    <tr>\n",
       "      <th>0</th>\n",
       "      <td>1</td>\n",
       "      <td>Newseum</td>\n",
       "      <td>555 Pennsylvania Ave NW, Washington DC, DC 200...</td>\n",
       "      <td>Find out for yourself why everyone is calling ...</td>\n",
       "      <td>Yes</td>\n",
       "      <td>2-3 hours</td>\n",
       "      <td>+1 888-639-7386</td>\n",
       "      <td>0</td>\n",
       "      <td>0</td>\n",
       "    </tr>\n",
       "    <tr>\n",
       "      <th>1</th>\n",
       "      <td>2</td>\n",
       "      <td>The Metropolitan Museum of Art</td>\n",
       "      <td>1000 5th Ave, New York City, NY 10028-0198</td>\n",
       "      <td>At New York City's most visited museum and att...</td>\n",
       "      <td>Yes</td>\n",
       "      <td>2-3 hours</td>\n",
       "      <td>+1 212-535-7710</td>\n",
       "      <td>0</td>\n",
       "      <td>0</td>\n",
       "    </tr>\n",
       "    <tr>\n",
       "      <th>2</th>\n",
       "      <td>3</td>\n",
       "      <td>The National WWII Museum</td>\n",
       "      <td>945 Magazine Street, New Orleans, LA 70130-3813</td>\n",
       "      <td>Founded by historian and author, Stephen Ambro...</td>\n",
       "      <td>NaN</td>\n",
       "      <td>NaN</td>\n",
       "      <td>+1 504-528-1944</td>\n",
       "      <td>0</td>\n",
       "      <td>0</td>\n",
       "    </tr>\n",
       "    <tr>\n",
       "      <th>3</th>\n",
       "      <td>4</td>\n",
       "      <td>Denver Museum of Nature &amp; Science</td>\n",
       "      <td>2001 N Colorado Blvd, Denver, CO 80205-5798</td>\n",
       "      <td>The Denver Museum of Nature &amp; Science is the R...</td>\n",
       "      <td>NaN</td>\n",
       "      <td>NaN</td>\n",
       "      <td>+1 303-370-6000</td>\n",
       "      <td>0</td>\n",
       "      <td>0</td>\n",
       "    </tr>\n",
       "    <tr>\n",
       "      <th>4</th>\n",
       "      <td>5</td>\n",
       "      <td>Art Institute of Chicago</td>\n",
       "      <td>111 S Michigan Ave, Chicago, IL 60603-6488</td>\n",
       "      <td>This Classical Renaissance structure, guarded ...</td>\n",
       "      <td>Yes</td>\n",
       "      <td>More than 3 hours</td>\n",
       "      <td>+1 312-443-3600</td>\n",
       "      <td>0</td>\n",
       "      <td>0</td>\n",
       "    </tr>\n",
       "  </tbody>\n",
       "</table>\n",
       "</div>"
      ],
      "text/plain": [
       "   museum_id                         MuseumName   \n",
       "0          1                            Newseum  \\\n",
       "1          2     The Metropolitan Museum of Art   \n",
       "2          3           The National WWII Museum   \n",
       "3          4  Denver Museum of Nature & Science   \n",
       "4          5           Art Institute of Chicago   \n",
       "\n",
       "                                             Address   \n",
       "0  555 Pennsylvania Ave NW, Washington DC, DC 200...  \\\n",
       "1         1000 5th Ave, New York City, NY 10028-0198   \n",
       "2    945 Magazine Street, New Orleans, LA 70130-3813   \n",
       "3        2001 N Colorado Blvd, Denver, CO 80205-5798   \n",
       "4         111 S Michigan Ave, Chicago, IL 60603-6488   \n",
       "\n",
       "                                         Description   Fee   \n",
       "0  Find out for yourself why everyone is calling ...  Yes   \\\n",
       "1  At New York City's most visited museum and att...  Yes    \n",
       "2  Founded by historian and author, Stephen Ambro...   NaN   \n",
       "3  The Denver Museum of Nature & Science is the R...   NaN   \n",
       "4  This Classical Renaissance structure, guarded ...  Yes    \n",
       "\n",
       "        LengthOfVisit         PhoneNum  Rating  ReviewCount  \n",
       "0          2-3 hours   +1 888-639-7386       0            0  \n",
       "1          2-3 hours   +1 212-535-7710       0            0  \n",
       "2                 NaN  +1 504-528-1944       0            0  \n",
       "3                 NaN  +1 303-370-6000       0            0  \n",
       "4  More than 3 hours   +1 312-443-3600       0            0  "
      ]
     },
     "execution_count": 13,
     "metadata": {},
     "output_type": "execute_result"
    }
   ],
   "source": [
    "museum_info.head()"
   ]
  },
  {
   "cell_type": "code",
   "execution_count": 15,
   "metadata": {},
   "outputs": [],
   "source": [
    "museum_info.to_csv('museum_info.csv', index=False)"
   ]
  },
  {
   "cell_type": "code",
   "execution_count": 3,
   "metadata": {},
   "outputs": [],
   "source": [
    "reviews_info = pd.read_csv('Review Data.csv')"
   ]
  },
  {
   "cell_type": "code",
   "execution_count": 24,
   "metadata": {},
   "outputs": [
    {
     "data": {
      "text/html": [
       "<div>\n",
       "<style scoped>\n",
       "    .dataframe tbody tr th:only-of-type {\n",
       "        vertical-align: middle;\n",
       "    }\n",
       "\n",
       "    .dataframe tbody tr th {\n",
       "        vertical-align: top;\n",
       "    }\n",
       "\n",
       "    .dataframe thead th {\n",
       "        text-align: right;\n",
       "    }\n",
       "</style>\n",
       "<table border=\"1\" class=\"dataframe\">\n",
       "  <thead>\n",
       "    <tr style=\"text-align: right;\">\n",
       "      <th></th>\n",
       "      <th>museum_id</th>\n",
       "      <th>MuseumName</th>\n",
       "      <th>ReviewText</th>\n",
       "      <th>Rating</th>\n",
       "    </tr>\n",
       "  </thead>\n",
       "  <tbody>\n",
       "    <tr>\n",
       "      <th>0</th>\n",
       "      <td>1</td>\n",
       "      <td>Newseum</td>\n",
       "      <td>Good</td>\n",
       "      <td>4</td>\n",
       "    </tr>\n",
       "    <tr>\n",
       "      <th>1</th>\n",
       "      <td>1</td>\n",
       "      <td>Newseum</td>\n",
       "      <td>Bad</td>\n",
       "      <td>1</td>\n",
       "    </tr>\n",
       "    <tr>\n",
       "      <th>2</th>\n",
       "      <td>1</td>\n",
       "      <td>Newseum</td>\n",
       "      <td>okay</td>\n",
       "      <td>3</td>\n",
       "    </tr>\n",
       "    <tr>\n",
       "      <th>3</th>\n",
       "      <td>1</td>\n",
       "      <td>Newseum</td>\n",
       "      <td>Haha</td>\n",
       "      <td>2</td>\n",
       "    </tr>\n",
       "    <tr>\n",
       "      <th>4</th>\n",
       "      <td>1</td>\n",
       "      <td>Newseum</td>\n",
       "      <td>will come again</td>\n",
       "      <td>5</td>\n",
       "    </tr>\n",
       "    <tr>\n",
       "      <th>5</th>\n",
       "      <td>2</td>\n",
       "      <td>The Metropolitan Museum of Art</td>\n",
       "      <td>not that good</td>\n",
       "      <td>2</td>\n",
       "    </tr>\n",
       "    <tr>\n",
       "      <th>6</th>\n",
       "      <td>2</td>\n",
       "      <td>The Metropolitan Museum of Art</td>\n",
       "      <td>I like it</td>\n",
       "      <td>1</td>\n",
       "    </tr>\n",
       "    <tr>\n",
       "      <th>7</th>\n",
       "      <td>2</td>\n",
       "      <td>The Metropolitan Museum of Art</td>\n",
       "      <td>won't come again</td>\n",
       "      <td>4</td>\n",
       "    </tr>\n",
       "    <tr>\n",
       "      <th>8</th>\n",
       "      <td>2</td>\n",
       "      <td>The Metropolitan Museum of Art</td>\n",
       "      <td>nevermind</td>\n",
       "      <td>3</td>\n",
       "    </tr>\n",
       "    <tr>\n",
       "      <th>9</th>\n",
       "      <td>2</td>\n",
       "      <td>The Metropolitan Museum of Art</td>\n",
       "      <td>we love it</td>\n",
       "      <td>4</td>\n",
       "    </tr>\n",
       "  </tbody>\n",
       "</table>\n",
       "</div>"
      ],
      "text/plain": [
       "   museum_id                      MuseumName        ReviewText  Rating\n",
       "0          1                         Newseum              Good       4\n",
       "1          1                         Newseum               Bad       1\n",
       "2          1                         Newseum              okay       3\n",
       "3          1                         Newseum              Haha       2\n",
       "4          1                         Newseum   will come again       5\n",
       "5          2  The Metropolitan Museum of Art     not that good       2\n",
       "6          2  The Metropolitan Museum of Art         I like it       1\n",
       "7          2  The Metropolitan Museum of Art  won't come again       4\n",
       "8          2  The Metropolitan Museum of Art         nevermind       3\n",
       "9          2  The Metropolitan Museum of Art        we love it       4"
      ]
     },
     "execution_count": 24,
     "metadata": {},
     "output_type": "execute_result"
    }
   ],
   "source": [
    "reviews_info"
   ]
  },
  {
   "cell_type": "code",
   "execution_count": 4,
   "metadata": {},
   "outputs": [],
   "source": [
    "museum_info = pd.read_csv('museum_info.csv')"
   ]
  },
  {
   "cell_type": "code",
   "execution_count": 5,
   "metadata": {},
   "outputs": [],
   "source": [
    "def hash_museum_name(museum_name):\n",
    "    ascii_sum = sum(ord(char) for char in museum_name)\n",
    "    return ascii_sum % 3"
   ]
  },
  {
   "cell_type": "code",
   "execution_count": 6,
   "metadata": {},
   "outputs": [],
   "source": []
  },
  {
   "cell_type": "code",
   "execution_count": 15,
   "metadata": {},
   "outputs": [],
   "source": [
    "db_uris = [\n",
    "    'mongodb://ec2-13-48-25-237.eu-north-1.compute.amazonaws.com:27017/database1',\n",
    "    'mongodb://ec2-13-48-25-237.eu-north-1.compute.amazonaws.com:27017/database2',\n",
    "    'mongodb://ec2-13-48-25-237.eu-north-1.compute.amazonaws.com:27017/database3'\n",
    "]"
   ]
  },
  {
   "cell_type": "code",
   "execution_count": 16,
   "metadata": {},
   "outputs": [],
   "source": [
    "clients = [MongoClient(uri) for uri in db_uris]\n",
    "dbs = [client.get_default_database() for client in clients]"
   ]
  },
  {
   "cell_type": "code",
   "execution_count": 17,
   "metadata": {},
   "outputs": [],
   "source": [
    "# Distribute and insert data\n",
    "for _, row in museum_info.iterrows():\n",
    "    hash_value = hash_museum_name(row['MuseumName'])\n",
    "    # Select the appropriate database based on the hash value\n",
    "    db = dbs[hash_value]\n",
    "    # Insert the document (you may want to convert the row to a dictionary)\n",
    "    db.museum_collection.insert_one(row.to_dict())"
   ]
  },
  {
   "cell_type": "code",
   "execution_count": null,
   "metadata": {},
   "outputs": [],
   "source": [
    "## adding reviews"
   ]
  },
  {
   "cell_type": "code",
   "execution_count": 37,
   "metadata": {},
   "outputs": [],
   "source": [
    "def submit_review(museum_name, rating, review, dbs, hash_museum_name):\n",
    "    # Find the target database based on the hash value of the museum name\n",
    "    db_index = hash_museum_name(museum_name)\n",
    "    target_db = dbs[db_index]\n",
    "\n",
    "    # Here you would use target_db to interact with the database\n",
    "    # Since we cannot perform actual database operations, please use this in your local setup\n",
    "    print(f\"Database selected: {target_db}\")\n",
    "    print(f\"Submitting review for {museum_name}: '{review}' with rating {rating}\")\n",
    "\n",
    "    # Assuming the museum document has a 'museum_name' field that is unique\n",
    "    museum_document = target_db['museum_collection'].find_one({'MuseumName': museum_name})\n",
    "    if museum_document:\n",
    "        # Update the average rating and review count\n",
    "        new_review_count = museum_document['ReviewCount'] + 1\n",
    "        new_avg_rating = ((museum_document['Rating'] * museum_document['ReviewCount']) + rating) / new_review_count\n",
    "\n",
    "        # Update the museum document in the museum_collection\n",
    "        target_db['museum_collection'].update_one(\n",
    "            {'MuseumName': museum_name},\n",
    "            {\n",
    "                '$set': {'Rating': new_avg_rating},\n",
    "                '$inc': {'ReviewCount': 1}\n",
    "            }\n",
    "        )\n",
    "\n",
    "        # Insert the new review into the review_collection\n",
    "        review_document = {\n",
    "            'MuseumName': museum_name,\n",
    "            'review': review,\n",
    "            'rating': rating,\n",
    "            'timestamp': datetime.now()\n",
    "        }\n",
    "        target_db['review_collection'].insert_one(review_document)\n"
   ]
  },
  {
   "cell_type": "code",
   "execution_count": 38,
   "metadata": {},
   "outputs": [
    {
     "name": "stdout",
     "output_type": "stream",
     "text": [
      "Database selected: Database(MongoClient(host=['ec2-13-48-25-237.eu-north-1.compute.amazonaws.com:27017'], document_class=dict, tz_aware=False, connect=True), 'database3')\n",
      "Submitting review for Newseum: 'Amazing experience, very interactive!' with rating 5\n",
      "Database selected: Database(MongoClient(host=['ec2-13-48-25-237.eu-north-1.compute.amazonaws.com:27017'], document_class=dict, tz_aware=False, connect=True), 'database3')\n",
      "Submitting review for Newseum: 'Great exhibits, but quite crowded.' with rating 4\n",
      "Database selected: Database(MongoClient(host=['ec2-13-48-25-237.eu-north-1.compute.amazonaws.com:27017'], document_class=dict, tz_aware=False, connect=True), 'database1')\n",
      "Submitting review for Art Institute of Chicago: 'so so' with rating 3\n",
      "Database selected: Database(MongoClient(host=['ec2-13-48-25-237.eu-north-1.compute.amazonaws.com:27017'], document_class=dict, tz_aware=False, connect=True), 'database1')\n",
      "Submitting review for Art Institute of Chicago: 'AMAZING!' with rating 5\n"
     ]
    }
   ],
   "source": [
    "## samples\n",
    "reviews = [\n",
    "    (\"Newseum\", 5, \"Amazing experience, very interactive!\"),\n",
    "    (\"Newseum\", 4, \"Great exhibits, but quite crowded.\"),\n",
    "    (\"Art Institute of Chicago\", 3, \"so so\"),\n",
    "    (\"Art Institute of Chicago\", 5, \"AMAZING!\")\n",
    "]\n",
    "\n",
    "for museum_name, rating, review_text in reviews:\n",
    "    submit_review(museum_name, rating, review_text, dbs, hash_museum_name)\n"
   ]
  },
  {
   "cell_type": "code",
   "execution_count": null,
   "metadata": {},
   "outputs": [],
   "source": [
    "## deleting review"
   ]
  },
  {
   "cell_type": "code",
   "execution_count": 39,
   "metadata": {},
   "outputs": [],
   "source": [
    "from pymongo import MongoClient\n",
    "from bson import ObjectId\n",
    "\n",
    "def delete_review(review_id, dbs):\n",
    "    # Find the review and its associated museum_id\n",
    "    for db in dbs:  # Assuming dbs is a list of your database connections\n",
    "        review = db.review_collection.find_one({'_id': ObjectId(review_id)})\n",
    "        if review:\n",
    "            museum_id = review['museum_id']\n",
    "            break\n",
    "    \n",
    "    if not review:\n",
    "        print(\"Review not found in any database.\")\n",
    "        return\n",
    "\n",
    "    # Now that you have the museum_id, you can proceed to delete the review\n",
    "    db.review_collection.delete_one({'_id': ObjectId(review_id)})\n",
    "\n",
    "    # Recalculate the average rating and review count for the museum\n",
    "    reviews_cursor = db.review_collection.find({'museum_id': museum_id})\n",
    "    total_rating, review_count = 0, 0\n",
    "    for review in reviews_cursor:\n",
    "        total_rating += review['rating']\n",
    "        review_count += 1\n",
    "    new_avg_rating = total_rating / review_count if review_count else 0\n",
    "\n",
    "    # Update the museum_collection\n",
    "    db.museum_collection.update_one(\n",
    "        {'_id': museum_id},\n",
    "        {'$set': {'Rating': new_avg_rating, 'ReviewCount': review_count}}\n",
    "    )"
   ]
  },
  {
   "cell_type": "code",
   "execution_count": null,
   "metadata": {},
   "outputs": [],
   "source": [
    "# Example usage\n",
    "review_id = 'review_object_id_here'\n",
    "delete_review(review_id, dbs)"
   ]
  },
  {
   "cell_type": "code",
   "execution_count": null,
   "metadata": {},
   "outputs": [],
   "source": []
  }
 ],
 "metadata": {
  "kernelspec": {
   "display_name": "Python 3 (ipykernel)",
   "language": "python",
   "name": "python3"
  },
  "language_info": {
   "codemirror_mode": {
    "name": "ipython",
    "version": 3
   },
   "file_extension": ".py",
   "mimetype": "text/x-python",
   "name": "python",
   "nbconvert_exporter": "python",
   "pygments_lexer": "ipython3",
   "version": "3.10.9"
  }
 },
 "nbformat": 4,
 "nbformat_minor": 4
}
